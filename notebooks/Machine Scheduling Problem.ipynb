{
 "cells": [
  {
   "cell_type": "markdown",
   "metadata": {},
   "source": [
    "# Load data"
   ]
  },
  {
   "cell_type": "code",
   "execution_count": 1,
   "metadata": {},
   "outputs": [],
   "source": [
    "import pandas as pd\n",
    "import numpy as np\n",
    "import copy"
   ]
  },
  {
   "cell_type": "code",
   "execution_count": 2,
   "metadata": {},
   "outputs": [
    {
     "data": {
      "text/html": [
       "<div>\n",
       "<style scoped>\n",
       "    .dataframe tbody tr th:only-of-type {\n",
       "        vertical-align: middle;\n",
       "    }\n",
       "\n",
       "    .dataframe tbody tr th {\n",
       "        vertical-align: top;\n",
       "    }\n",
       "\n",
       "    .dataframe thead th {\n",
       "        text-align: right;\n",
       "    }\n",
       "</style>\n",
       "<table border=\"1\" class=\"dataframe\">\n",
       "  <thead>\n",
       "    <tr style=\"text-align: right;\">\n",
       "      <th></th>\n",
       "      <th>p</th>\n",
       "      <th>w</th>\n",
       "      <th>r</th>\n",
       "    </tr>\n",
       "  </thead>\n",
       "  <tbody>\n",
       "    <tr>\n",
       "      <th>1</th>\n",
       "      <td>2</td>\n",
       "      <td>2</td>\n",
       "      <td>1</td>\n",
       "    </tr>\n",
       "    <tr>\n",
       "      <th>2</th>\n",
       "      <td>3</td>\n",
       "      <td>8</td>\n",
       "      <td>2</td>\n",
       "    </tr>\n",
       "    <tr>\n",
       "      <th>3</th>\n",
       "      <td>2</td>\n",
       "      <td>10</td>\n",
       "      <td>3</td>\n",
       "    </tr>\n",
       "  </tbody>\n",
       "</table>\n",
       "</div>"
      ],
      "text/plain": [
       "   p   w  r\n",
       "1  2   2  1\n",
       "2  3   8  2\n",
       "3  2  10  3"
      ]
     },
     "execution_count": 2,
     "metadata": {},
     "output_type": "execute_result"
    }
   ],
   "source": [
    "df = pd.read_csv('../data/schedules_1.csv', index_col=0).astype(int).T\n",
    "df.head()"
   ]
  },
  {
   "cell_type": "markdown",
   "metadata": {},
   "source": [
    "# Definition of functions"
   ]
  },
  {
   "cell_type": "code",
   "execution_count": 3,
   "metadata": {},
   "outputs": [],
   "source": [
    "def cover_all_zeros(lap, modify_input=False):\n",
    "    if len(lap) == 0:\n",
    "        return (0, [], [])\n",
    "    \n",
    "    if not modify_input:\n",
    "        lap = np.copy(lap)\n",
    "    \n",
    "    zero_matrix = (lap == 0).astype(int)\n",
    "    \n",
    "    row_counter = np.array([sum(row) for row in zero_matrix])\n",
    "    col_counter = np.array([sum(row) for row in zero_matrix.transpose()])\n",
    "    \n",
    "    row_i = np.where(row_counter == np.amax(row_counter))[0][0]\n",
    "    col_i = np.where(col_counter == np.amax(col_counter))[0][0]\n",
    "    \n",
    "    max_row_zeros = row_counter[row_i]\n",
    "    max_col_zeros = col_counter[col_i]\n",
    "    \n",
    "    if max_row_zeros == 0 and max_col_zeros == 0:\n",
    "        return (0, [], [])\n",
    "    if max_row_zeros >= max_col_zeros:\n",
    "        lap = np.delete(lap, row_i, axis=0)\n",
    "        \n",
    "        nzeros, zrows, zcols = cover_all_zeros(lap, True)\n",
    "        nzeros += 1\n",
    "        \n",
    "        zrows = [(x if x < row_i else x + 1) for x in zrows]\n",
    "        zrows.append(row_i)\n",
    "    else:\n",
    "        lap = np.delete(lap, col_i, axis=1)\n",
    "        \n",
    "        nzeros, zrows, zcols = cover_all_zeros(lap, True)\n",
    "        nzeros += 1\n",
    "        \n",
    "        zcols = [(x if x < col_i else x + 1) for x in zcols]\n",
    "        zcols.append(col_i)\n",
    "    \n",
    "    return (nzeros, zrows, zcols)"
   ]
  },
  {
   "cell_type": "code",
   "execution_count": 4,
   "metadata": {},
   "outputs": [],
   "source": [
    "def create_additional_zeros(lap, uncovered_rows):\n",
    "    # Find the smallest element (call it k) that is not covered by a line\n",
    "    smallest_row_i = -1\n",
    "    smallest_row_min = -1\n",
    "    for i in uncovered_rows:\n",
    "        row = lap[i]\n",
    "        row_indices = np.where((row != 0) & (row != np.inf))\n",
    "        \n",
    "        current_smallest_row_min = min(np.take(lap[i], row_indices)[0])\n",
    "        if smallest_row_min == -1 or smallest_row_min > current_smallest_row_min:\n",
    "            smallest_row_i = i\n",
    "            smallest_row_min = current_smallest_row_min\n",
    "    \n",
    "    # Substract smallest element\n",
    "    for row_i in uncovered_rows:\n",
    "        lap[row_i] = lap[row_i] - smallest_row_min\n",
    "    \n",
    "    # Locate cols to fix\n",
    "    fix_col_indices = np.where(lap[smallest_row_i] < 0)[0]\n",
    "    for row_i, row in enumerate(lap):\n",
    "        lap[row_i] = [(x + smallest_row_min if col_i in fix_col_indices else x) for col_i, x in enumerate(row)]\n",
    "    \n",
    "    return lap"
   ]
  },
  {
   "cell_type": "code",
   "execution_count": 5,
   "metadata": {},
   "outputs": [],
   "source": [
    "def hungarian_algorithm(lap):\n",
    "    size = len(lap)\n",
    "    hlap = np.copy(lap)\n",
    "    \n",
    "    # Substract row minimum\n",
    "    for i, row in enumerate(hlap):\n",
    "        hlap[i] = row - min(row)\n",
    "    \n",
    "    # Substract column minimum\n",
    "    hlap = hlap.transpose()\n",
    "    for i, row in enumerate(hlap):\n",
    "        hlap[i] = row - min(row)\n",
    "    hlap = hlap.transpose()\n",
    "    \n",
    "    # Cover all zeros with a minimum number of lines\n",
    "    nzeros, zrows, zcols = cover_all_zeros(hlap)\n",
    "    while nzeros < size:\n",
    "        # Find the smallest element (call it k) that is not covered by a line in Step 3\n",
    "        # Subtract k from all uncovered elements, and add k to all elements that are covered twice\n",
    "        all_indices = np.arange(size)\n",
    "        uncovered_rows = np.delete(all_indices, zrows, axis=0)\n",
    "        hlap = create_additional_zeros(hlap, uncovered_rows)\n",
    "        \n",
    "        # Cover all zeros with a minimum number of lines\n",
    "        nzeros, zrows, zcols = cover_all_zeros(hlap)\n",
    "    \n",
    "    # To do: return combination\n",
    "    return hlap"
   ]
  },
  {
   "cell_type": "code",
   "execution_count": 6,
   "metadata": {},
   "outputs": [],
   "source": [
    "# Finds an assignation where each part job is assigned to a time\n",
    "# It does not verify if the given result is feasible or not\n",
    "def find_permutation(lap, permutation=[]):\n",
    "    if len(permutation) == len(lap):\n",
    "        return permutation\n",
    "    \n",
    "    row_i = len(permutation)\n",
    "    row = lap[row_i]\n",
    "    \n",
    "    # Find all columns (in the current row) where there are zeros\n",
    "    zero_indices = np.where(row == 0)[0]\n",
    "\n",
    "    for zero_i in zero_indices:\n",
    "        # Skip column if it is already chosen\n",
    "        if zero_i in permutation:\n",
    "            continue\n",
    "\n",
    "        copy_permutation = permutation.copy()\n",
    "        copy_permutation.append(zero_i)\n",
    "\n",
    "        copy_permutation = find_permutation(lap, copy_permutation)\n",
    "\n",
    "        # Find a permutation and return it\n",
    "        if len(copy_permutation) != 0:\n",
    "            return copy_permutation\n",
    "        \n",
    "    return []"
   ]
  },
  {
   "cell_type": "code",
   "execution_count": 7,
   "metadata": {},
   "outputs": [],
   "source": [
    "# Given a permutation, calculate the cost\n",
    "def get_cost(lap, permutation):\n",
    "    cost = 0\n",
    "    for row_i, row in enumerate(lap):\n",
    "        col_i = permutation[row_i]\n",
    "        cost += row[col_i]\n",
    "    \n",
    "    return cost"
   ]
  },
  {
   "cell_type": "code",
   "execution_count": 8,
   "metadata": {},
   "outputs": [],
   "source": [
    "# In a permutation, it cannot happen that a later job part is executed before a earlier job part\n",
    "# Here it returns the choices in LAP which are not feasible\n",
    "def find_infeasible_choice(job_parts, permutation):\n",
    "    last_job_i = -1\n",
    "    last_choice = -1\n",
    "    \n",
    "    for row_i in range(len(permutation)):\n",
    "        current_choice = permutation[row_i]\n",
    "        current_job_i = job_parts[row_i]\n",
    "        \n",
    "        if last_job_i == current_job_i:\n",
    "            if last_choice > current_choice:\n",
    "                return [\n",
    "                    (row_i - 1, last_choice),\n",
    "                    (row_i, current_choice)\n",
    "                ]\n",
    "        else:\n",
    "            last_job_i = job_parts[row_i]\n",
    "        last_choice = current_choice\n",
    "    return None"
   ]
  },
  {
   "cell_type": "code",
   "execution_count": 21,
   "metadata": {},
   "outputs": [],
   "source": [
    "# Tree path is defined by the coordinates in the LAP which has been excluded\n",
    "def find_permutation_min_cost(lap, hlap=None, prev_cost=-1):\n",
    "    if hlap is None:\n",
    "        # Execute only in the first call\n",
    "        hlap = lap\n",
    "    \n",
    "    # Compute Hungarian algorithm and find a permutation of jobs\n",
    "    hlap = hungarian_algorithm(hlap)\n",
    "    permutation = find_permutation(hlap)\n",
    "    \n",
    "    if len(permutation) == 0:\n",
    "        # No permutation found\n",
    "        return (None, -1)\n",
    "    \n",
    "    cost = get_cost(lap, permutation)\n",
    "    if cost >= prev_cost and prev_cost != -1:\n",
    "        # Too expensive\n",
    "        return (None, -1)\n",
    "    \n",
    "    infeasible_choice = find_infeasible_choice(job_parts, permutation)\n",
    "    \n",
    "    if infeasible_choice is None:\n",
    "        # This is a feasible permutation\n",
    "        return (permutation, cost)\n",
    "    \n",
    "    # If there is any infeasible choice in the permutation, re-compute it again\n",
    "    best_permutation = None\n",
    "    best_cost = -1\n",
    "    for choice in infeasible_choice:\n",
    "        # Replace is each infeasible choice with np.inf and compute again\n",
    "        copy_hlap = copy.deepcopy(hlap)\n",
    "        copy_hlap[choice[0]][choice[1]] = np.inf\n",
    "        \n",
    "        current_permutation, current_cost = find_permutation_min_cost(lap, copy_hlap, best_cost)\n",
    "        \n",
    "        if current_permutation is None:\n",
    "            continue\n",
    "        elif current_cost < best_cost or best_cost == -1:\n",
    "            best_permutation = current_permutation\n",
    "            best_cost = current_cost\n",
    "    \n",
    "    return (best_permutation, best_cost)"
   ]
  },
  {
   "cell_type": "markdown",
   "metadata": {},
   "source": [
    "# Reduction of SPT to the Linear Assignment Problem"
   ]
  },
  {
   "cell_type": "code",
   "execution_count": 22,
   "metadata": {},
   "outputs": [
    {
     "data": {
      "text/plain": [
       "7"
      ]
     },
     "execution_count": 22,
     "metadata": {},
     "output_type": "execute_result"
    }
   ],
   "source": [
    "T = df['p'].sum()\n",
    "T"
   ]
  },
  {
   "cell_type": "code",
   "execution_count": 23,
   "metadata": {},
   "outputs": [
    {
     "data": {
      "text/plain": [
       "array([[ 0.,  0.,  0.,  0.,  0.,  0., inf],\n",
       "       [inf,  2.,  4.,  6.,  8., 10., 12.],\n",
       "       [inf,  0.,  0.,  0.,  0., inf, inf],\n",
       "       [inf, inf,  0.,  0.,  0.,  0., inf],\n",
       "       [inf, inf, inf,  8., 16., 24., 32.],\n",
       "       [inf, inf,  0.,  0.,  0.,  0., inf],\n",
       "       [inf, inf, inf, 10., 20., 30., 40.]])"
      ]
     },
     "execution_count": 23,
     "metadata": {},
     "output_type": "execute_result"
    }
   ],
   "source": [
    "lap = []\n",
    "job_parts = []\n",
    "\n",
    "job_i = 0\n",
    "for _, job_data in df.iterrows():\n",
    "    for p_i in range(job_data['p']):\n",
    "        # Add job name to each row, so we know which row is a part of which job\n",
    "        job_parts.append(job_i)\n",
    "        \n",
    "        # Compute LAP\n",
    "        lap_row = np.ones(T) * np.inf\n",
    "        \n",
    "        start = job_data['r'] + p_i - 1\n",
    "        end = T - job_data['p'] + p_i + 1\n",
    "        mult = 1\n",
    "        for index in range(start, end):\n",
    "            lap_row[index] = int(job_data['w'] * mult) if p_i + 1 == job_data['p'] else 0\n",
    "            mult += 1\n",
    "        \n",
    "        lap.append(lap_row)\n",
    "\n",
    "    job_i += 1\n",
    "\n",
    "\n",
    "lap = np.array(lap)\n",
    "lap"
   ]
  },
  {
   "cell_type": "code",
   "execution_count": 24,
   "metadata": {},
   "outputs": [],
   "source": [
    "best_permutation, best_cost = find_permutation_min_cost(lap)"
   ]
  },
  {
   "cell_type": "code",
   "execution_count": 25,
   "metadata": {},
   "outputs": [
    {
     "name": "stdout",
     "output_type": "stream",
     "text": [
      "Best permutation:  [0, 1, 4, 5, 6, 2, 3]\n",
      "Cost: 44.0\n"
     ]
    }
   ],
   "source": [
    "print('Best permutation: ', best_permutation)\n",
    "print('Cost: %.1f' % best_cost)"
   ]
  },
  {
   "cell_type": "code",
   "execution_count": null,
   "metadata": {},
   "outputs": [],
   "source": []
  }
 ],
 "metadata": {
  "kernelspec": {
   "display_name": "Python 3",
   "language": "python",
   "name": "python3"
  },
  "language_info": {
   "codemirror_mode": {
    "name": "ipython",
    "version": 3
   },
   "file_extension": ".py",
   "mimetype": "text/x-python",
   "name": "python",
   "nbconvert_exporter": "python",
   "pygments_lexer": "ipython3",
   "version": "3.7.4"
  }
 },
 "nbformat": 4,
 "nbformat_minor": 4
}
